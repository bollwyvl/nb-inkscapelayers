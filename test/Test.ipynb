{
 "cells": [
  {
   "cell_type": "markdown",
   "metadata": {
    "collapsed": true,
    "slideshow": {
     "slide_type": "slide"
    }
   },
   "source": [
    "# layer 0\n",
    "![](test.svg#layers=0)"
   ]
  },
  {
   "cell_type": "markdown",
   "metadata": {
    "slideshow": {
     "slide_type": "slide"
    }
   },
   "source": [
    "# layer 1\n",
    "![](test.svg#layers=1.1.1)"
   ]
  },
  {
   "cell_type": "code",
   "execution_count": 6,
   "metadata": {
    "collapsed": false,
    "slideshow": {
     "slide_type": "skip"
    }
   },
   "outputs": [
    {
     "data": {
      "application/javascript": [
       "require.config({\n",
       "  paths: {\n",
       "    \"d3\": [\n",
       "      // use locally if possible\n",
       "      \"/nbextensions/inkscapelayers/lib/d3/d3.min\",\n",
       "      // fall back to cdn\n",
       "      \"https://cdn.jsdelivr.net/g/d3js#\",\n",
       "    ],\n",
       "    \"underscore\": [\n",
       "      \"underscore\",\n",
       "      \"/static/components/underscore/underscore-min\",\n",
       "      \"https://cdn.jsdelivr.net/g/underscorejs#\"\n",
       "    ]\n",
       "  }\n",
       "});\n",
       "\n",
       "require(\n",
       "[\n",
       "  \"underscore\",\n",
       "  \"d3\"\n",
       "],\n",
       "function(_, d3){\n",
       "  var serializer = new XMLSerializer(),\n",
       "    namespaces =  {\n",
       "      inkscape: \"http://www.inkscape.org/namespaces/inkscape\",\n",
       "      sodipodi: \"http://sodipodi.sourceforge.net/DTD/sodipodi-0.dtd\"\n",
       "    };\n",
       "\n",
       "  _.extend(d3.ns.prefix, namespaces);\n",
       "\n",
       "  function urlize(xml){\n",
       "    return 'data:image/svg+xml;base64,' + btoa(xml);\n",
       "  }\n",
       "\n",
       "  function layerize(cell){\n",
       "    cell.selectAll(\"img[src*='.svg#layers=']:not([src^='data:'])\")\n",
       "      .each(makeLayer);\n",
       "  }\n",
       "\n",
       "  function makeLayer(){\n",
       "    var el = d3.select(this),\n",
       "      layers = this.src.split(\"#layers=\")[1].split(\"|\");\n",
       "\n",
       "    // load the source document\n",
       "    d3.xml(this.src, \"image/svg+xml\", function(err, doc){\n",
       "      // ensure righteous namespacing\n",
       "      var svg = d3.select(doc).select(\"svg\")\n",
       "          .attr({version: 1.1, xmlns: \"http://www.w3.org/2000/svg\"}),\n",
       "        layer = svg.selectAll(\"[*|groupmode = 'layer']\"),\n",
       "        named = layer.filter(function(){\n",
       "          return layers.indexOf(d3.select(this).attr(\"inkscape:label\")) !== -1;\n",
       "        });\n",
       "\n",
       "      // show all named (and parents of named) layers\n",
       "      layer.style({\n",
       "        display: function(){\n",
       "          var layer = this;\n",
       "          return named[0].indexOf(layer) > -1 ||\n",
       "            _.any(named[0], function(child){\n",
       "              return layer.contains(child);\n",
       "            }) ? \"inline\" : \"none\";\n",
       "        }\n",
       "      });\n",
       "\n",
       "      // set src to a shiny data url\n",
       "      el.attr({src: urlize(serializer.serializeToString(svg.node()))});\n",
       "    });\n",
       "  }\n",
       "\n",
       "  function init(){\n",
       "    require([\n",
       "      \"base/js/namespace\",\n",
       "      \"base/js/events\"\n",
       "    ], function(IPython, events){\n",
       "      events\n",
       "        .on(\"rendered.MarkdownCell\", function(event, data){\n",
       "          layerize(d3.select(data.cell.element[0]));\n",
       "        });\n",
       "\n",
       "      IPython.notebook.get_cells()\n",
       "        .filter(function(cell){ return cell.cell_type === \"markdown\"; })\n",
       "        .map(function(cell){ layerize(d3.select(cell.element[0])); });\n",
       "    }, function(err){\n",
       "      d3.selectAll(\".rendered_html.text_cell_render\")\n",
       "        .call(layerize);\n",
       "    });\n",
       "\n",
       "    return init;\n",
       "  }\n",
       "\n",
       "  // pun for IPython.load_extensions\n",
       "  init.load_ipython_extension = init;\n",
       "\n",
       "  return init();\n",
       "});\n"
      ],
      "text/plain": [
       "<IPython.core.display.Javascript object>"
      ]
     },
     "metadata": {},
     "output_type": "display_data"
    }
   ],
   "source": [
    "%reload_ext inkscapelayers"
   ]
  }
 ],
 "metadata": {
  "kernelspec": {
   "display_name": "Python 3",
   "language": "python",
   "name": "python3"
  },
  "language_info": {
   "codemirror_mode": {
    "name": "ipython",
    "version": 3
   },
   "file_extension": ".py",
   "mimetype": "text/x-python",
   "name": "python",
   "nbconvert_exporter": "python",
   "pygments_lexer": "ipython3",
   "version": "3.4.2"
  }
 },
 "nbformat": 4,
 "nbformat_minor": 0
}
